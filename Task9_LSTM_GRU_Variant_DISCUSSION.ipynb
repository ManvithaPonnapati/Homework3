{
 "cells": [
  {
   "cell_type": "markdown",
   "metadata": {},
   "source": [
    "# CPU Epoch Information"
   ]
  },
  {
   "cell_type": "markdown",
   "metadata": {},
   "source": [
    "14.939984 seconds (4.30 M allocations: 10.176 GiB, 6.88% gc time)\n",
    "(:epoch, 1, :loss, 10.933669f0)\n",
    "\n",
    " 10.226540 seconds (2.21 M allocations: 7.566 GiB, 8.03% gc time)\n",
    "(:epoch, 2, :loss, 26.944506f0)\n",
    "\n",
    " 12.466976 seconds (2.02 M allocations: 6.718 GiB, 7.10% gc time)\n",
    "(:epoch, 3, :loss, 30.272936f0)\n",
    "\n",
    "  9.648352 seconds (1.94 M allocations: 6.295 GiB, 8.90% gc time)\n",
    "(:epoch, 4, :loss, 26.522581f0)\n",
    "\n",
    "  9.292732 seconds (1.93 M allocations: 6.056 GiB, 10.24% gc time)\n",
    "(:epoch, 5, :loss, 25.726688f0)\n",
    "\n",
    " 10.722867 seconds (1.93 M allocations: 5.872 GiB, 10.97% gc time)\n",
    "(:epoch, 6, :loss, 23.462496f0)\n",
    "\n",
    " 10.787516 seconds (1.95 M allocations: 5.787 GiB, 10.77% gc time)\n",
    "(:epoch, 7, :loss, 21.65705f0)\n",
    "\n",
    " 11.472688 seconds (1.95 M allocations: 5.689 GiB, 21.19% gc time)\n",
    "(:epoch, 8, :loss, 20.116842f0)\n",
    "\n",
    " 11.544814 seconds (1.94 M allocations: 5.591 GiB, 23.45% gc time)\n",
    "(:epoch, 9, :loss, 18.059036f0)\n",
    "\n",
    " 12.759594 seconds (1.95 M allocations: 5.548 GiB, 30.74% gc time)\n",
    "(:epoch, 10, :loss, 16.714403f0)\n"
   ]
  },
  {
   "cell_type": "markdown",
   "metadata": {},
   "source": [
    "# GPU Epoch Information"
   ]
  },
  {
   "cell_type": "markdown",
   "metadata": {},
   "source": [
    "(:epoch, 0, :loss, 4.31694f0)\n",
    "  6.019195 seconds (2.93 M allocations: 128.599 MiB, 0.69% gc time)\n",
    "  \n",
    "(:epoch, 1, :loss, 15.500616f0)\n",
    "  1.672996 seconds (1.60 M allocations: 60.944 MiB, 0.96% gc time)\n",
    "  \n",
    "(:epoch, 2, :loss, 22.972958f0)\n",
    "  1.426486 seconds (1.53 M allocations: 58.632 MiB, 1.20% gc time)\n",
    "  \n",
    "(:epoch, 3, :loss, 22.367638f0)\n",
    "  1.266444 seconds (1.46 M allocations: 56.359 MiB, 0.93% gc time)\n",
    "  \n",
    "(:epoch, 4, :loss, 21.843987f0)\n",
    "  1.215077 seconds (1.52 M allocations: 56.155 MiB, 1.42% gc time)\n",
    "  \n",
    "(:epoch, 5, :loss, 20.73522f0)\n",
    "  1.188535 seconds (1.54 M allocations: 55.945 MiB, 1.37% gc time)\n",
    "  \n",
    "(:epoch, 6, :loss, 19.696957f0)\n",
    "  1.166751 seconds (1.53 M allocations: 55.604 MiB, 0.92% gc time)\n",
    "  \n",
    "(:epoch, 7, :loss, 17.153204f0)\n",
    "  1.158070 seconds (1.58 M allocations: 56.083 MiB, 1.34% gc time)\n",
    "  \n",
    "(:epoch, 8, :loss, 16.03143f0)\n",
    "  1.211449 seconds (1.58 M allocations: 56.188 MiB, 1.31% gc time)\n",
    "  \n",
    "(:epoch, 9, :loss, 14.509731f0)\n",
    "  1.123533 seconds (1.55 M allocations: 55.697 MiB, 0.94% gc time)\n",
    "  \n",
    "(:epoch, 10, :loss, 13.724353f0)\n",
    "1.134399 seconds (1.61 M allocations: 56.639 MiB, 1.42% gc time)"
   ]
  },
  {
   "cell_type": "markdown",
   "metadata": {},
   "source": [
    " # Analysis of GRU variant vs LSTM\n",
    "\n",
    "1. The training time per epoch is significantly smaller\n",
    "2. The amount of memory allocations per epoch is also very small for LSTM\n",
    "3. The model of GRU is very clean/small compared to LSTM (i.e not a lot of gates)\n",
    "4. I can conclude that GRU's are computationally more efficient\n",
    "5. I trained the model for 100 runs and started ntoicing that GRU doesn't seem to be that good at remembering long sequences like LSTM did."
   ]
  },
  {
   "cell_type": "code",
   "execution_count": null,
   "metadata": {
    "collapsed": true
   },
   "outputs": [],
   "source": []
  }
 ],
 "metadata": {
  "kernelspec": {
   "display_name": "Julia 0.6.0",
   "language": "julia",
   "name": "julia-0.6"
  },
  "language_info": {
   "file_extension": ".jl",
   "mimetype": "application/julia",
   "name": "julia",
   "version": "0.6.0"
  }
 },
 "nbformat": 4,
 "nbformat_minor": 2
}
