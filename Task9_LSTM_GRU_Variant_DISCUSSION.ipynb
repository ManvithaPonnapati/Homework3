{
 "cells": [
  {
   "cell_type": "markdown",
   "metadata": {},
   "source": [
    "# CPU Epoch Information"
   ]
  },
  {
   "cell_type": "markdown",
   "metadata": {},
   "source": [
    "14.939984 seconds (4.30 M allocations: 10.176 GiB, 6.88% gc time)\n",
    "(:epoch, 1, :loss, 10.933669f0)\n",
    "\n",
    " 10.226540 seconds (2.21 M allocations: 7.566 GiB, 8.03% gc time)\n",
    "(:epoch, 2, :loss, 26.944506f0)\n",
    "\n",
    " 12.466976 seconds (2.02 M allocations: 6.718 GiB, 7.10% gc time)\n",
    "(:epoch, 3, :loss, 30.272936f0)\n",
    "\n",
    "  9.648352 seconds (1.94 M allocations: 6.295 GiB, 8.90% gc time)\n",
    "(:epoch, 4, :loss, 26.522581f0)\n",
    "\n",
    "  9.292732 seconds (1.93 M allocations: 6.056 GiB, 10.24% gc time)\n",
    "(:epoch, 5, :loss, 25.726688f0)\n",
    "\n",
    " 10.722867 seconds (1.93 M allocations: 5.872 GiB, 10.97% gc time)\n",
    "(:epoch, 6, :loss, 23.462496f0)\n",
    "\n",
    " 10.787516 seconds (1.95 M allocations: 5.787 GiB, 10.77% gc time)\n",
    "(:epoch, 7, :loss, 21.65705f0)\n",
    "\n",
    " 11.472688 seconds (1.95 M allocations: 5.689 GiB, 21.19% gc time)\n",
    "(:epoch, 8, :loss, 20.116842f0)\n",
    "\n",
    " 11.544814 seconds (1.94 M allocations: 5.591 GiB, 23.45% gc time)\n",
    "(:epoch, 9, :loss, 18.059036f0)\n",
    "\n",
    " 12.759594 seconds (1.95 M allocations: 5.548 GiB, 30.74% gc time)\n",
    "(:epoch, 10, :loss, 16.714403f0)\n"
   ]
  },
  {
   "cell_type": "markdown",
   "metadata": {},
   "source": []
  }
 ],
 "metadata": {
  "kernelspec": {
   "display_name": "Julia 0.6.0",
   "language": "julia",
   "name": "julia-0.6"
  },
  "language_info": {
   "file_extension": ".jl",
   "mimetype": "application/julia",
   "name": "julia",
   "version": "0.6.0"
  }
 },
 "nbformat": 4,
 "nbformat_minor": 2
}
